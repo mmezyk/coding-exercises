{
 "cells": [
  {
   "cell_type": "code",
   "execution_count": 1,
   "outputs": [],
   "source": [
    "import pandas as pd\n",
    "import seaborn as sns\n",
    "import scipy\n",
    "import numpy as np\n",
    "import matplotlib.pyplot as plt"
   ],
   "metadata": {
    "collapsed": false,
    "pycharm": {
     "name": "#%%\n"
    }
   }
  },
  {
   "cell_type": "code",
   "execution_count": 2,
   "outputs": [],
   "source": [
    "from sklearn.preprocessing import MinMaxScaler, StandardScaler\n",
    "from sklearn.feature_selection import mutual_info_regression, SelectKBest\n",
    "from sklearn.metrics import mean_squared_error\n",
    "from sklearn.model_selection import train_test_split\n",
    "from sklearn import ensemble"
   ],
   "metadata": {
    "collapsed": false,
    "pycharm": {
     "name": "#%%\n"
    }
   }
  },
  {
   "cell_type": "markdown",
   "source": [
    "## DATA EXPLORATION"
   ],
   "metadata": {
    "collapsed": false,
    "pycharm": {
     "name": "#%% md\n"
    }
   }
  },
  {
   "cell_type": "markdown",
   "source": [
    "##### Loading data and checking its structure"
   ],
   "metadata": {
    "collapsed": false,
    "pycharm": {
     "name": "#%% md\n"
    }
   }
  },
  {
   "cell_type": "code",
   "execution_count": 3,
   "outputs": [],
   "source": [
    "df = pd.read_csv('./train.csv')"
   ],
   "metadata": {
    "collapsed": false,
    "pycharm": {
     "name": "#%%\n"
    }
   }
  },
  {
   "cell_type": "code",
   "execution_count": 4,
   "outputs": [
    {
     "data": {
      "text/plain": "     0    1    2    3    4    5         6         7  8    9  ...         44  \\\n0  236  488   16  221  382   97 -4.472136  0.107472  0  132  ...  13.340874   \n1  386  206  357  232    1  198  7.810250  0.763713  1  143  ...  12.484882   \n2  429   49  481  111  111  146  8.602325  0.651162  1  430  ...  14.030257   \n3  414  350  481  370  208  158  8.306624  0.424645  1  340  ...   2.789577   \n4  318  359   20  218  317  301  8.124038  0.767304  1  212  ...   1.886560   \n\n         45         46         47         48         49         50         51  \\\n0  0.870542   1.962937   7.466666  11.547794   8.822916   9.046424   7.895535   \n1  7.168680   2.885415  12.413973  10.260494  10.091351   9.270888   3.173994   \n2  0.394970   8.160625  12.592059   8.937577   2.265191  11.255721  12.794841   \n3  6.416708  10.549814  11.456437   6.468099   2.519049   0.258284   9.317696   \n4  1.919999   2.268203   0.149421   4.105907  10.416291   6.816217   8.586960   \n\n          52     target  \n0  11.010677  20.107472  \n1  13.921871  61.763713  \n2  12.080951  74.651162  \n3   5.383098  69.424645  \n4   4.512419  66.767304  \n\n[5 rows x 54 columns]",
      "text/html": "<div>\n<style scoped>\n    .dataframe tbody tr th:only-of-type {\n        vertical-align: middle;\n    }\n\n    .dataframe tbody tr th {\n        vertical-align: top;\n    }\n\n    .dataframe thead th {\n        text-align: right;\n    }\n</style>\n<table border=\"1\" class=\"dataframe\">\n  <thead>\n    <tr style=\"text-align: right;\">\n      <th></th>\n      <th>0</th>\n      <th>1</th>\n      <th>2</th>\n      <th>3</th>\n      <th>4</th>\n      <th>5</th>\n      <th>6</th>\n      <th>7</th>\n      <th>8</th>\n      <th>9</th>\n      <th>...</th>\n      <th>44</th>\n      <th>45</th>\n      <th>46</th>\n      <th>47</th>\n      <th>48</th>\n      <th>49</th>\n      <th>50</th>\n      <th>51</th>\n      <th>52</th>\n      <th>target</th>\n    </tr>\n  </thead>\n  <tbody>\n    <tr>\n      <th>0</th>\n      <td>236</td>\n      <td>488</td>\n      <td>16</td>\n      <td>221</td>\n      <td>382</td>\n      <td>97</td>\n      <td>-4.472136</td>\n      <td>0.107472</td>\n      <td>0</td>\n      <td>132</td>\n      <td>...</td>\n      <td>13.340874</td>\n      <td>0.870542</td>\n      <td>1.962937</td>\n      <td>7.466666</td>\n      <td>11.547794</td>\n      <td>8.822916</td>\n      <td>9.046424</td>\n      <td>7.895535</td>\n      <td>11.010677</td>\n      <td>20.107472</td>\n    </tr>\n    <tr>\n      <th>1</th>\n      <td>386</td>\n      <td>206</td>\n      <td>357</td>\n      <td>232</td>\n      <td>1</td>\n      <td>198</td>\n      <td>7.810250</td>\n      <td>0.763713</td>\n      <td>1</td>\n      <td>143</td>\n      <td>...</td>\n      <td>12.484882</td>\n      <td>7.168680</td>\n      <td>2.885415</td>\n      <td>12.413973</td>\n      <td>10.260494</td>\n      <td>10.091351</td>\n      <td>9.270888</td>\n      <td>3.173994</td>\n      <td>13.921871</td>\n      <td>61.763713</td>\n    </tr>\n    <tr>\n      <th>2</th>\n      <td>429</td>\n      <td>49</td>\n      <td>481</td>\n      <td>111</td>\n      <td>111</td>\n      <td>146</td>\n      <td>8.602325</td>\n      <td>0.651162</td>\n      <td>1</td>\n      <td>430</td>\n      <td>...</td>\n      <td>14.030257</td>\n      <td>0.394970</td>\n      <td>8.160625</td>\n      <td>12.592059</td>\n      <td>8.937577</td>\n      <td>2.265191</td>\n      <td>11.255721</td>\n      <td>12.794841</td>\n      <td>12.080951</td>\n      <td>74.651162</td>\n    </tr>\n    <tr>\n      <th>3</th>\n      <td>414</td>\n      <td>350</td>\n      <td>481</td>\n      <td>370</td>\n      <td>208</td>\n      <td>158</td>\n      <td>8.306624</td>\n      <td>0.424645</td>\n      <td>1</td>\n      <td>340</td>\n      <td>...</td>\n      <td>2.789577</td>\n      <td>6.416708</td>\n      <td>10.549814</td>\n      <td>11.456437</td>\n      <td>6.468099</td>\n      <td>2.519049</td>\n      <td>0.258284</td>\n      <td>9.317696</td>\n      <td>5.383098</td>\n      <td>69.424645</td>\n    </tr>\n    <tr>\n      <th>4</th>\n      <td>318</td>\n      <td>359</td>\n      <td>20</td>\n      <td>218</td>\n      <td>317</td>\n      <td>301</td>\n      <td>8.124038</td>\n      <td>0.767304</td>\n      <td>1</td>\n      <td>212</td>\n      <td>...</td>\n      <td>1.886560</td>\n      <td>1.919999</td>\n      <td>2.268203</td>\n      <td>0.149421</td>\n      <td>4.105907</td>\n      <td>10.416291</td>\n      <td>6.816217</td>\n      <td>8.586960</td>\n      <td>4.512419</td>\n      <td>66.767304</td>\n    </tr>\n  </tbody>\n</table>\n<p>5 rows × 54 columns</p>\n</div>"
     },
     "execution_count": 4,
     "metadata": {},
     "output_type": "execute_result"
    }
   ],
   "source": [
    "df.head()"
   ],
   "metadata": {
    "collapsed": false,
    "pycharm": {
     "name": "#%%\n"
    }
   }
  },
  {
   "cell_type": "code",
   "execution_count": 5,
   "outputs": [
    {
     "data": {
      "text/plain": "                  0             1             2             3             4  \\\ncount  90000.000000  90000.000000  90000.000000  90000.000000  90000.000000   \nmean     249.423944    250.236267    248.637289    249.736600    249.436178   \nstd      144.336393    144.022200    144.107577    144.284945    143.941581   \nmin        0.000000      0.000000      0.000000      0.000000      0.000000   \n25%      125.000000    126.000000    124.000000    125.000000    125.000000   \n50%      250.000000    251.000000    248.000000    250.000000    250.000000   \n75%      374.000000    375.000000    374.000000    375.000000    373.000000   \nmax      499.000000    499.000000    499.000000    499.000000    499.000000   \n\n                  5             6             7             8             9  \\\ncount  90000.000000  90000.000000  90000.000000  90000.000000  90000.000000   \nmean     249.656167     -0.011402      0.498548      0.499189    249.842033   \nstd      144.329168      7.038171      0.288682      0.500002    144.612718   \nmin        0.000000     -9.949874      0.000014      0.000000      0.000000   \n25%      124.000000     -7.071068      0.248932      0.000000    124.000000   \n50%      250.000000      0.000000      0.497136      0.000000    250.000000   \n75%      374.000000      7.000000      0.747513      1.000000    376.000000   \nmax      499.000000      9.949874      0.999987      1.000000    499.000000   \n\n       ...            44            45            46            47  \\\ncount  ...  90000.000000  90000.000000  90000.000000  90000.000000   \nmean   ...      7.475155      7.523962      7.508397      7.473322   \nstd    ...      4.330410      4.321537      4.331761      4.335692   \nmin    ...      0.000019      0.000040      0.000154      0.000083   \n25%    ...      3.707544      3.797002      3.760627      3.715721   \n50%    ...      7.474127      7.533987      7.505259      7.459774   \n75%    ...     11.216585     11.276349     11.261971     11.215637   \nmax    ...     14.999900     14.999528     14.999733     14.999478   \n\n                 48            49            50            51            52  \\\ncount  90000.000000  90000.000000  90000.000000  90000.000000  90000.000000   \nmean       7.490658      7.474578      7.509206      7.487159      7.513316   \nstd        4.332122      4.323035      4.326364      4.324876      4.333080   \nmin        0.000367      0.000014      0.000160      0.000147      0.000125   \n25%        3.739358      3.715298      3.773381      3.743536      3.776322   \n50%        7.494167      7.477270      7.512575      7.476564      7.506812   \n75%       11.239232     11.210070     11.268156     11.234414     11.277835   \nmax       14.999869     14.999928     14.999948     14.999364     14.999775   \n\n             target  \ncount  90000.000000  \nmean      50.033981  \nstd       28.897243  \nmin        0.002634  \n25%       25.091903  \n50%       50.030705  \n75%       75.059454  \nmax       99.999482  \n\n[8 rows x 54 columns]",
      "text/html": "<div>\n<style scoped>\n    .dataframe tbody tr th:only-of-type {\n        vertical-align: middle;\n    }\n\n    .dataframe tbody tr th {\n        vertical-align: top;\n    }\n\n    .dataframe thead th {\n        text-align: right;\n    }\n</style>\n<table border=\"1\" class=\"dataframe\">\n  <thead>\n    <tr style=\"text-align: right;\">\n      <th></th>\n      <th>0</th>\n      <th>1</th>\n      <th>2</th>\n      <th>3</th>\n      <th>4</th>\n      <th>5</th>\n      <th>6</th>\n      <th>7</th>\n      <th>8</th>\n      <th>9</th>\n      <th>...</th>\n      <th>44</th>\n      <th>45</th>\n      <th>46</th>\n      <th>47</th>\n      <th>48</th>\n      <th>49</th>\n      <th>50</th>\n      <th>51</th>\n      <th>52</th>\n      <th>target</th>\n    </tr>\n  </thead>\n  <tbody>\n    <tr>\n      <th>count</th>\n      <td>90000.000000</td>\n      <td>90000.000000</td>\n      <td>90000.000000</td>\n      <td>90000.000000</td>\n      <td>90000.000000</td>\n      <td>90000.000000</td>\n      <td>90000.000000</td>\n      <td>90000.000000</td>\n      <td>90000.000000</td>\n      <td>90000.000000</td>\n      <td>...</td>\n      <td>90000.000000</td>\n      <td>90000.000000</td>\n      <td>90000.000000</td>\n      <td>90000.000000</td>\n      <td>90000.000000</td>\n      <td>90000.000000</td>\n      <td>90000.000000</td>\n      <td>90000.000000</td>\n      <td>90000.000000</td>\n      <td>90000.000000</td>\n    </tr>\n    <tr>\n      <th>mean</th>\n      <td>249.423944</td>\n      <td>250.236267</td>\n      <td>248.637289</td>\n      <td>249.736600</td>\n      <td>249.436178</td>\n      <td>249.656167</td>\n      <td>-0.011402</td>\n      <td>0.498548</td>\n      <td>0.499189</td>\n      <td>249.842033</td>\n      <td>...</td>\n      <td>7.475155</td>\n      <td>7.523962</td>\n      <td>7.508397</td>\n      <td>7.473322</td>\n      <td>7.490658</td>\n      <td>7.474578</td>\n      <td>7.509206</td>\n      <td>7.487159</td>\n      <td>7.513316</td>\n      <td>50.033981</td>\n    </tr>\n    <tr>\n      <th>std</th>\n      <td>144.336393</td>\n      <td>144.022200</td>\n      <td>144.107577</td>\n      <td>144.284945</td>\n      <td>143.941581</td>\n      <td>144.329168</td>\n      <td>7.038171</td>\n      <td>0.288682</td>\n      <td>0.500002</td>\n      <td>144.612718</td>\n      <td>...</td>\n      <td>4.330410</td>\n      <td>4.321537</td>\n      <td>4.331761</td>\n      <td>4.335692</td>\n      <td>4.332122</td>\n      <td>4.323035</td>\n      <td>4.326364</td>\n      <td>4.324876</td>\n      <td>4.333080</td>\n      <td>28.897243</td>\n    </tr>\n    <tr>\n      <th>min</th>\n      <td>0.000000</td>\n      <td>0.000000</td>\n      <td>0.000000</td>\n      <td>0.000000</td>\n      <td>0.000000</td>\n      <td>0.000000</td>\n      <td>-9.949874</td>\n      <td>0.000014</td>\n      <td>0.000000</td>\n      <td>0.000000</td>\n      <td>...</td>\n      <td>0.000019</td>\n      <td>0.000040</td>\n      <td>0.000154</td>\n      <td>0.000083</td>\n      <td>0.000367</td>\n      <td>0.000014</td>\n      <td>0.000160</td>\n      <td>0.000147</td>\n      <td>0.000125</td>\n      <td>0.002634</td>\n    </tr>\n    <tr>\n      <th>25%</th>\n      <td>125.000000</td>\n      <td>126.000000</td>\n      <td>124.000000</td>\n      <td>125.000000</td>\n      <td>125.000000</td>\n      <td>124.000000</td>\n      <td>-7.071068</td>\n      <td>0.248932</td>\n      <td>0.000000</td>\n      <td>124.000000</td>\n      <td>...</td>\n      <td>3.707544</td>\n      <td>3.797002</td>\n      <td>3.760627</td>\n      <td>3.715721</td>\n      <td>3.739358</td>\n      <td>3.715298</td>\n      <td>3.773381</td>\n      <td>3.743536</td>\n      <td>3.776322</td>\n      <td>25.091903</td>\n    </tr>\n    <tr>\n      <th>50%</th>\n      <td>250.000000</td>\n      <td>251.000000</td>\n      <td>248.000000</td>\n      <td>250.000000</td>\n      <td>250.000000</td>\n      <td>250.000000</td>\n      <td>0.000000</td>\n      <td>0.497136</td>\n      <td>0.000000</td>\n      <td>250.000000</td>\n      <td>...</td>\n      <td>7.474127</td>\n      <td>7.533987</td>\n      <td>7.505259</td>\n      <td>7.459774</td>\n      <td>7.494167</td>\n      <td>7.477270</td>\n      <td>7.512575</td>\n      <td>7.476564</td>\n      <td>7.506812</td>\n      <td>50.030705</td>\n    </tr>\n    <tr>\n      <th>75%</th>\n      <td>374.000000</td>\n      <td>375.000000</td>\n      <td>374.000000</td>\n      <td>375.000000</td>\n      <td>373.000000</td>\n      <td>374.000000</td>\n      <td>7.000000</td>\n      <td>0.747513</td>\n      <td>1.000000</td>\n      <td>376.000000</td>\n      <td>...</td>\n      <td>11.216585</td>\n      <td>11.276349</td>\n      <td>11.261971</td>\n      <td>11.215637</td>\n      <td>11.239232</td>\n      <td>11.210070</td>\n      <td>11.268156</td>\n      <td>11.234414</td>\n      <td>11.277835</td>\n      <td>75.059454</td>\n    </tr>\n    <tr>\n      <th>max</th>\n      <td>499.000000</td>\n      <td>499.000000</td>\n      <td>499.000000</td>\n      <td>499.000000</td>\n      <td>499.000000</td>\n      <td>499.000000</td>\n      <td>9.949874</td>\n      <td>0.999987</td>\n      <td>1.000000</td>\n      <td>499.000000</td>\n      <td>...</td>\n      <td>14.999900</td>\n      <td>14.999528</td>\n      <td>14.999733</td>\n      <td>14.999478</td>\n      <td>14.999869</td>\n      <td>14.999928</td>\n      <td>14.999948</td>\n      <td>14.999364</td>\n      <td>14.999775</td>\n      <td>99.999482</td>\n    </tr>\n  </tbody>\n</table>\n<p>8 rows × 54 columns</p>\n</div>"
     },
     "execution_count": 5,
     "metadata": {},
     "output_type": "execute_result"
    }
   ],
   "source": [
    "df.describe()"
   ],
   "metadata": {
    "collapsed": false,
    "pycharm": {
     "name": "#%%\n"
    }
   }
  },
  {
   "cell_type": "markdown",
   "source": [
    "##### Checking what percentage of data rows contains NaN values:"
   ],
   "metadata": {
    "collapsed": false,
    "pycharm": {
     "name": "#%% md\n"
    }
   }
  },
  {
   "cell_type": "code",
   "execution_count": 6,
   "outputs": [
    {
     "name": "stdout",
     "output_type": "stream",
     "text": [
      "0.00%\n"
     ]
    }
   ],
   "source": [
    "df_nonans=df.dropna()\n",
    "print('%.2f%%' % ((df.shape[0]-df_nonans.shape[0])/df.shape[0]*100))"
   ],
   "metadata": {
    "collapsed": false,
    "pycharm": {
     "name": "#%%\n"
    }
   }
  },
  {
   "cell_type": "markdown",
   "source": [
    "##### Setting float data type to each feature:"
   ],
   "metadata": {
    "collapsed": false,
    "pycharm": {
     "name": "#%% md\n"
    }
   }
  },
  {
   "cell_type": "code",
   "execution_count": 7,
   "outputs": [],
   "source": [
    "for col in df:\n",
    "    if df[col].dtype == 'int64':\n",
    "        df[col] = df[col].astype('float64')"
   ],
   "metadata": {
    "collapsed": false,
    "pycharm": {
     "name": "#%%\n"
    }
   }
  },
  {
   "cell_type": "code",
   "execution_count": 8,
   "outputs": [
    {
     "data": {
      "text/plain": "0         float64\n1         float64\n2         float64\n3         float64\n4         float64\n5         float64\n6         float64\n7         float64\n8         float64\n9         float64\n10        float64\n11        float64\n12        float64\n13        float64\n14        float64\n15        float64\n16        float64\n17        float64\n18        float64\n19        float64\n20        float64\n21        float64\n22        float64\n23        float64\n24        float64\n25        float64\n26        float64\n27        float64\n28        float64\n29        float64\n30        float64\n31        float64\n32        float64\n33        float64\n34        float64\n35        float64\n36        float64\n37        float64\n38        float64\n39        float64\n40        float64\n41        float64\n42        float64\n43        float64\n44        float64\n45        float64\n46        float64\n47        float64\n48        float64\n49        float64\n50        float64\n51        float64\n52        float64\ntarget    float64\ndtype: object"
     },
     "execution_count": 8,
     "metadata": {},
     "output_type": "execute_result"
    }
   ],
   "source": [
    "df.dtypes"
   ],
   "metadata": {
    "collapsed": false,
    "pycharm": {
     "name": "#%%\n"
    }
   }
  },
  {
   "cell_type": "markdown",
   "source": [
    "##### Checking correlation matrix\n",
    "###### Goal: avoid using correlated features at the training phase"
   ],
   "metadata": {
    "collapsed": false,
    "pycharm": {
     "name": "#%% md\n"
    }
   }
  },
  {
   "cell_type": "code",
   "execution_count": 21,
   "outputs": [
    {
     "data": {
      "text/plain": "<AxesSubplot:>"
     },
     "execution_count": 21,
     "metadata": {},
     "output_type": "execute_result"
    },
    {
     "data": {
      "text/plain": "<Figure size 792x648 with 2 Axes>",
      "image/png": "[encoded data removed]"
     },
     "metadata": {},
     "output_type": "display_data"
    }
   ],
   "source": [
    "correlation_matrix = df[df.columns[:]].corr()\n",
    "mask = np.triu(np.ones_like(correlation_matrix, dtype=bool))\n",
    "f, ax = plt.subplots(figsize=(11, 9))\n",
    "sns.heatmap(correlation_matrix, mask=mask, cmap='rainbow', vmax=0.04, center=0, square=True, linewidths=.5, cbar_kws={\"shrink\": .5})"
   ],
   "metadata": {
    "collapsed": false,
    "pycharm": {
     "name": "#%%\n"
    }
   }
  },
  {
   "cell_type": "markdown",
   "source": [
    "##### Listing ten of the most correlated feature pairs (including target column):"
   ],
   "metadata": {
    "collapsed": false,
    "pycharm": {
     "name": "#%% md\n"
    }
   }
  },
  {
   "cell_type": "code",
   "execution_count": 26,
   "outputs": [
    {
     "name": "stdout",
     "output_type": "stream",
     "text": [
      "6       8         0.940016\n",
      "8       6         0.940016\n",
      "7       target    0.012103\n",
      "target  7         0.012103\n",
      "33      31        0.011606\n",
      "31      33        0.011606\n",
      "26      49        0.010444\n",
      "49      26        0.010444\n",
      "33      1         0.010357\n",
      "1       33        0.010357\n",
      "dtype: float64\n"
     ]
    }
   ],
   "source": [
    "correlation_matrix_flat = correlation_matrix.abs().unstack().sort_values(kind=\"quicksort\", ascending=False)\n",
    "correlation_matrix_flat = correlation_matrix_flat[correlation_matrix_flat != 1.0]\n",
    "print(correlation_matrix_flat[0:10])"
   ],
   "metadata": {
    "collapsed": false,
    "pycharm": {
     "name": "#%%\n"
    }
   }
  },
  {
   "cell_type": "markdown",
   "source": [
    "###### Note: Features 6 and 8 are highly correlated - one of them might be redundant.<br>Target values are slightly correlated to the feature 7 - it's worth adding it to the training data."
   ],
   "metadata": {
    "collapsed": false,
    "pycharm": {
     "name": "#%% md\n"
    }
   }
  },
  {
   "cell_type": "markdown",
   "source": [
    "##### Checking data distributions:"
   ],
   "metadata": {
    "collapsed": false,
    "pycharm": {
     "name": "#%% md\n"
    }
   }
  },
  {
   "cell_type": "code",
   "execution_count": 75,
   "outputs": [
    {
     "data": {
      "text/plain": "<Figure size 432x288 with 1 Axes>",
      "image/png": "[encoded data removed]"
     },
     "metadata": {},
     "output_type": "display_data"
    }
   ],
   "source": [
    "plt.hist(df['6'], 10, density=False, color='orange')\n",
    "plt.title('Feature 6')\n",
    "plt.ylabel('Number of samples')\n",
    "plt.xlabel('Values')\n",
    "plt.show()"
   ],
   "metadata": {
    "collapsed": false,
    "pycharm": {
     "name": "#%%\n"
    }
   }
  },
  {
   "cell_type": "code",
   "execution_count": 74,
   "outputs": [
    {
     "data": {
      "text/plain": "<Figure size 432x288 with 1 Axes>",
      "image/png": "[encoded data removed]"
     },
     "metadata": {},
     "output_type": "display_data"
    }
   ],
   "source": [
    "plt.hist(df['8'], 10, density=False, color='orange')\n",
    "plt.title('Feature 8')\n",
    "plt.ylabel('Number of samples')\n",
    "plt.xlabel('Values')\n",
    "plt.show()"
   ],
   "metadata": {
    "collapsed": false,
    "pycharm": {
     "name": "#%%\n"
    }
   }
  },
  {
   "cell_type": "code",
   "execution_count": 73,
   "outputs": [
    {
     "data": {
      "text/plain": "<Figure size 432x288 with 1 Axes>",
      "image/png": "[encoded data removed]"
     },
     "metadata": {},
     "output_type": "display_data"
    }
   ],
   "source": [
    "plt.hist(df['7'], 50, density=False, color='orange')\n",
    "plt.title('Feature 7')\n",
    "plt.ylim(1500, 2000)\n",
    "plt.ylabel('Number of samples')\n",
    "plt.xlabel('Values')\n",
    "plt.show()"
   ],
   "metadata": {
    "collapsed": false,
    "pycharm": {
     "name": "#%%\n"
    }
   }
  },
  {
   "cell_type": "code",
   "execution_count": 72,
   "outputs": [
    {
     "data": {
      "text/plain": "<Figure size 432x288 with 1 Axes>",
      "image/png": "[encoded data removed]"
     },
     "metadata": {},
     "output_type": "display_data"
    }
   ],
   "source": [
    "plt.hist(df['target'], 50, density=False, color='orange')\n",
    "plt.title('Target')\n",
    "plt.ylim(1500, 2000)\n",
    "plt.ylabel('Number of samples')\n",
    "plt.xlabel('Values')\n",
    "plt.show()"
   ],
   "metadata": {
    "collapsed": false,
    "pycharm": {
     "name": "#%%\n"
    }
   }
  },
  {
   "cell_type": "markdown",
   "source": [
    "##### Performing feature selection:"
   ],
   "metadata": {
    "collapsed": false,
    "pycharm": {
     "name": "#%% md\n"
    }
   }
  },
  {
   "cell_type": "code",
   "execution_count": 54,
   "outputs": [],
   "source": [
    "skb = SelectKBest(mutual_info_regression, k=2).fit(df.iloc[:, :-1], df.iloc[:, -1])"
   ],
   "metadata": {
    "collapsed": false,
    "pycharm": {
     "name": "#%%\n"
    }
   }
  },
  {
   "cell_type": "markdown",
   "source": [
    "##### Listing two of the most relevant features:"
   ],
   "metadata": {
    "collapsed": false,
    "pycharm": {
     "name": "#%% md\n"
    }
   }
  },
  {
   "cell_type": "code",
   "execution_count": 56,
   "outputs": [
    {
     "name": "stdout",
     "output_type": "stream",
     "text": [
      "6\n",
      "7\n"
     ]
    }
   ],
   "source": [
    "X = skb.transform(df.iloc[:, :-1])\n",
    "for i in range(X.shape[-1]):\n",
    "    print([c for c in df.iloc[:, :-1].columns if df.iloc[:, :-1][c].iloc[0] == X[0, i]][0])"
   ],
   "metadata": {
    "collapsed": false,
    "pycharm": {
     "name": "#%%\n"
    }
   }
  },
  {
   "cell_type": "markdown",
   "source": [
    "##### Plotting all feature scores representing the feature importance:"
   ],
   "metadata": {
    "collapsed": false,
    "pycharm": {
     "name": "#%% md\n"
    }
   }
  },
  {
   "cell_type": "code",
   "execution_count": 70,
   "outputs": [
    {
     "data": {
      "text/plain": "<Figure size 1080x360 with 1 Axes>",
      "image/png": "[encoded data removed]"
     },
     "metadata": {},
     "output_type": "display_data"
    }
   ],
   "source": [
    "plt.figure(figsize=(15, 5))\n",
    "plt.bar(np.arange(len(skb.scores_)), skb.scores_, color='orange')\n",
    "plt.yscale('log')\n",
    "plt.xticks(np.arange(df.iloc[:, :-1].shape[1]), np.arange(df.iloc[:, :-1].shape[1]))\n",
    "plt.xlabel('Feature name')\n",
    "plt.ylabel('Feature importance')\n",
    "plt.show()"
   ],
   "metadata": {
    "collapsed": false,
    "pycharm": {
     "name": "#%%\n"
    }
   }
  },
  {
   "cell_type": "markdown",
   "source": [
    "## MODEL BUILDING"
   ],
   "metadata": {
    "collapsed": false,
    "pycharm": {
     "name": "#%% md\n"
    }
   }
  },
  {
   "cell_type": "code",
   "execution_count": 59,
   "outputs": [],
   "source": [
    "from sklearn.ensemble import GradientBoostingRegressor\n",
    "from sklearn.model_selection import KFold\n",
    "from typing import List, Optional, Dict\n",
    "from hyperopt import fmin, tpe, hp, Trials\n",
    "import json"
   ],
   "metadata": {
    "collapsed": false,
    "pycharm": {
     "name": "#%%\n"
    }
   }
  },
  {
   "cell_type": "code",
   "execution_count": 10,
   "outputs": [],
   "source": [
    "random_state = 30\n",
    "np.random.seed(random_state)"
   ],
   "metadata": {
    "collapsed": false,
    "pycharm": {
     "name": "#%%\n"
    }
   }
  },
  {
   "cell_type": "code",
   "execution_count": 20,
   "outputs": [],
   "source": [
    "def evaluate_model(X: pd.DataFrame,\n",
    "                   y: pd.Series,\n",
    "                   cols_to_select: Optional[List[str]] = None,\n",
    "                   gbr_params: Optional[Dict] = None,\n",
    "                   random_state: int = 30) -> List[float]:\n",
    "\n",
    "    kf = KFold(n_splits=10, shuffle=True, random_state=random_state)\n",
    "    rmse = []\n",
    "    if cols_to_select:\n",
    "        X = X[cols_to_select]\n",
    "    for i, (train_index, test_index) in enumerate(kf.split(X, y)):\n",
    "        X_train = X.iloc[train_index]\n",
    "        X_test = X.iloc[test_index]\n",
    "        y_train = y.iloc[train_index]\n",
    "        y_test = y.iloc[test_index]\n",
    "        if gbr_params is None:\n",
    "            gbr = GradientBoostingRegressor(random_state=random_state)\n",
    "        else:\n",
    "            gbr_params['random_state'] = random_state\n",
    "            gbr = GradientBoostingRegressor(**gbr_params)\n",
    "        gbr.fit(X_train, y_train)\n",
    "        y_test_hat = gbr.predict(X_test)\n",
    "        rmse.append(mean_squared_error(y_test, y_test_hat, squared=False))\n",
    "    print(f'Average RMSE: {round(np.average(rmse), 3)}')\n",
    "    return rmse"
   ],
   "metadata": {
    "collapsed": false,
    "pycharm": {
     "name": "#%%\n"
    }
   }
  },
  {
   "cell_type": "markdown",
   "source": [
    "##### CASE 1: evaluate model's performance trained on the entire feature matrix"
   ],
   "metadata": {
    "collapsed": false,
    "pycharm": {
     "name": "#%% md\n"
    }
   }
  },
  {
   "cell_type": "code",
   "execution_count": null,
   "outputs": [],
   "source": [
    "rmse_list = evaluate_model(df.iloc[:, :-1], df.target)"
   ],
   "metadata": {
    "collapsed": false,
    "pycharm": {
     "name": "#%%\n"
    }
   }
  },
  {
   "cell_type": "code",
   "execution_count": 96,
   "outputs": [
    {
     "name": "stdout",
     "output_type": "stream",
     "text": [
      "Average RMSE: 0.4204, standard deviation: 0.01\n"
     ]
    }
   ],
   "source": [
    "print(f'Average RMSE: {round(np.average(rmse_list), 4)}, standard deviation: {round(np.std(rmse_list), 4)}')"
   ],
   "metadata": {
    "collapsed": false,
    "pycharm": {
     "name": "#%%\n"
    }
   }
  },
  {
   "cell_type": "markdown",
   "source": [
    "##### CASE 2: evaluate model's performance trained with the selected features"
   ],
   "metadata": {
    "collapsed": false,
    "pycharm": {
     "name": "#%% md\n"
    }
   }
  },
  {
   "cell_type": "code",
   "execution_count": null,
   "outputs": [],
   "source": [
    "rmse_list_fs = evaluate_model(df.iloc[:, :-1], df.target, cols_to_select=['6', '7'])"
   ],
   "metadata": {
    "collapsed": false,
    "pycharm": {
     "name": "#%%\n"
    }
   }
  },
  {
   "cell_type": "code",
   "execution_count": 97,
   "outputs": [
    {
     "name": "stdout",
     "output_type": "stream",
     "text": [
      "Average RMSE: 0.4191, standard deviation: 0.0102\n"
     ]
    }
   ],
   "source": [
    "print(f'Average RMSE: {round(np.average(rmse_list_fs), 4)}, standard deviation: {round(np.std(rmse_list_fs), 4)}')"
   ],
   "metadata": {
    "collapsed": false,
    "pycharm": {
     "name": "#%%\n"
    }
   }
  },
  {
   "cell_type": "markdown",
   "source": [
    "##### Performing hyperparameter tuning"
   ],
   "metadata": {
    "collapsed": false,
    "pycharm": {
     "name": "#%% md\n"
    }
   }
  },
  {
   "cell_type": "code",
   "execution_count": 25,
   "outputs": [],
   "source": [
    "space = hp.choice('classifier_type',\n",
    "    [\n",
    "        {\n",
    "            'type': 'GradientBoostingRegressor',\n",
    "            'learning_rate': hp.uniform('learning_rate', 0.005, 0.2),\n",
    "            'n_estimators': hp.randint('n_estimators', 50, 200)\n",
    "        },\n",
    "    ])"
   ],
   "metadata": {
    "collapsed": false,
    "pycharm": {
     "name": "#%%\n"
    }
   }
  },
  {
   "cell_type": "code",
   "execution_count": 30,
   "outputs": [
    {
     "name": "stdout",
     "output_type": "stream",
     "text": [
      "{'learning_rate': 0.1073632616853555, 'n_estimators': 144, 'type': 'GradientBoostingRegressor'}\n",
      "Average RMSE: 0.331                                   \n",
      "{'learning_rate': 0.15601925118722063, 'n_estimators': 112, 'type': 'GradientBoostingRegressor'}\n",
      "Average RMSE: 0.412                                                             \n",
      "{'learning_rate': 0.030406197255339926, 'n_estimators': 116, 'type': 'GradientBoostingRegressor'}\n",
      "Average RMSE: 1.703                                                             \n",
      "{'learning_rate': 0.1455922552289762, 'n_estimators': 186, 'type': 'GradientBoostingRegressor'}\n",
      "Average RMSE: 0.263                                                             \n",
      "{'learning_rate': 0.1558958922312795, 'n_estimators': 104, 'type': 'GradientBoostingRegressor'}\n",
      "Average RMSE: 0.44                                                               \n",
      "{'learning_rate': 0.09065117222799696, 'n_estimators': 81, 'type': 'GradientBoostingRegressor'}\n",
      "Average RMSE: 0.458                                                              \n",
      "{'learning_rate': 0.09098509462162706, 'n_estimators': 69, 'type': 'GradientBoostingRegressor'}\n",
      "Average RMSE: 0.55                                                               \n",
      "{'learning_rate': 0.13269748918063487, 'n_estimators': 107, 'type': 'GradientBoostingRegressor'}\n",
      "Average RMSE: 0.426                                                              \n",
      "{'learning_rate': 0.008107810207150042, 'n_estimators': 197, 'type': 'GradientBoostingRegressor'}\n",
      "Average RMSE: 7.56                                                               \n",
      "{'learning_rate': 0.0321022427061778, 'n_estimators': 176, 'type': 'GradientBoostingRegressor'}\n",
      "Average RMSE: 0.576                                                              \n",
      "{'learning_rate': 0.07605819708118251, 'n_estimators': 102, 'type': 'GradientBoostingRegressor'}\n",
      "Average RMSE: 0.374                                                               \n",
      "{'learning_rate': 0.16261966921202936, 'n_estimators': 67, 'type': 'GradientBoostingRegressor'}\n",
      "Average RMSE: 0.604                                                               \n",
      "{'learning_rate': 0.04474797018805325, 'n_estimators': 156, 'type': 'GradientBoostingRegressor'}\n",
      "Average RMSE: 0.34                                                                \n",
      "{'learning_rate': 0.07742236919941958, 'n_estimators': 92, 'type': 'GradientBoostingRegressor'}\n",
      "Average RMSE: 0.418                                                               \n",
      "{'learning_rate': 0.14018110425422786, 'n_estimators': 108, 'type': 'GradientBoostingRegressor'}\n",
      "Average RMSE: 0.42                                                                \n",
      "{'learning_rate': 0.17006954769152308, 'n_estimators': 191, 'type': 'GradientBoostingRegressor'}\n",
      "Average RMSE: 0.242                                                               \n",
      "{'learning_rate': 0.13494055955480644, 'n_estimators': 86, 'type': 'GradientBoostingRegressor'}\n",
      "Average RMSE: 0.5                                                                 \n",
      "{'learning_rate': 0.12271401332284956, 'n_estimators': 122, 'type': 'GradientBoostingRegressor'}\n",
      "Average RMSE: 0.385                                                               \n",
      "{'learning_rate': 0.1896559203719512, 'n_estimators': 75, 'type': 'GradientBoostingRegressor'}\n",
      "Average RMSE: 0.558                                                               \n",
      "{'learning_rate': 0.14835358752270117, 'n_estimators': 61, 'type': 'GradientBoostingRegressor'}\n",
      "Average RMSE: 0.633                                                               \n",
      "{'learning_rate': 0.1946622746661701, 'n_estimators': 193, 'type': 'GradientBoostingRegressor'}\n",
      "Average RMSE: 0.227                                                               \n",
      "{'learning_rate': 0.1991129917856145, 'n_estimators': 193, 'type': 'GradientBoostingRegressor'}\n",
      "Average RMSE: 0.22                                                                \n",
      "{'learning_rate': 0.19214244522291674, 'n_estimators': 193, 'type': 'GradientBoostingRegressor'}\n",
      "Average RMSE: 0.225                                                               \n",
      "{'learning_rate': 0.17797431352259405, 'n_estimators': 193, 'type': 'GradientBoostingRegressor'}\n",
      "Average RMSE: 0.235                                                               \n",
      "{'learning_rate': 0.1964833896774302, 'n_estimators': 182, 'type': 'GradientBoostingRegressor'}\n",
      "Average RMSE: 0.238                                                               \n",
      "{'learning_rate': 0.1840806163334174, 'n_estimators': 93, 'type': 'GradientBoostingRegressor'}\n",
      "Average RMSE: 0.473                                                               \n",
      "{'learning_rate': 0.19991648612541357, 'n_estimators': 77, 'type': 'GradientBoostingRegressor'}\n",
      "Average RMSE: 0.543                                                               \n",
      "{'learning_rate': 0.17204830006113647, 'n_estimators': 115, 'type': 'GradientBoostingRegressor'}\n",
      "Average RMSE: 0.392                                                               \n",
      "{'learning_rate': 0.11108992241077177, 'n_estimators': 124, 'type': 'GradientBoostingRegressor'}\n",
      "Average RMSE: 0.375                                                               \n",
      "{'learning_rate': 0.12282137704416586, 'n_estimators': 101, 'type': 'GradientBoostingRegressor'}\n",
      "Average RMSE: 0.44                                                                \n",
      "{'learning_rate': 0.18230122233396748, 'n_estimators': 57, 'type': 'GradientBoostingRegressor'}\n",
      "Average RMSE: 0.68                                                                \n",
      "{'learning_rate': 0.055350139543555665, 'n_estimators': 97, 'type': 'GradientBoostingRegressor'}\n",
      "Average RMSE: 0.65                                                                \n",
      "{'learning_rate': 0.19968896479367682, 'n_estimators': 180, 'type': 'GradientBoostingRegressor'}\n",
      "Average RMSE: 0.238                                                               \n",
      "{'learning_rate': 0.1593100060172632, 'n_estimators': 151, 'type': 'GradientBoostingRegressor'}\n",
      "Average RMSE: 0.314                                                               \n",
      "{'learning_rate': 0.1700422640919481, 'n_estimators': 199, 'type': 'GradientBoostingRegressor'}\n",
      "Average RMSE: 0.231                                                               \n",
      "{'learning_rate': 0.1053635772963952, 'n_estimators': 72, 'type': 'GradientBoostingRegressor'}\n",
      "Average RMSE: 0.508                                                               \n",
      "{'learning_rate': 0.15105929102356144, 'n_estimators': 127, 'type': 'GradientBoostingRegressor'}\n",
      "Average RMSE: 0.37                                                                \n",
      "{'learning_rate': 0.11972068342765067, 'n_estimators': 169, 'type': 'GradientBoostingRegressor'}\n",
      "Average RMSE: 0.291                                                               \n",
      "{'learning_rate': 0.01224930759921404, 'n_estimators': 114, 'type': 'GradientBoostingRegressor'}\n",
      "Average RMSE: 8.866                                                               \n",
      "{'learning_rate': 0.09307159192686242, 'n_estimators': 183, 'type': 'GradientBoostingRegressor'}\n",
      "Average RMSE: 0.273                                                               \n",
      "{'learning_rate': 0.1879372244177978, 'n_estimators': 194, 'type': 'GradientBoostingRegressor'}\n",
      "Average RMSE: 0.225                                                               \n",
      "{'learning_rate': 0.07183279452306238, 'n_estimators': 89, 'type': 'GradientBoostingRegressor'}\n",
      "Average RMSE: 0.473                                                               \n",
      "{'learning_rate': 0.16175223758901286, 'n_estimators': 194, 'type': 'GradientBoostingRegressor'}\n",
      "Average RMSE: 0.24                                                                \n",
      "{'learning_rate': 0.14127373261888013, 'n_estimators': 106, 'type': 'GradientBoostingRegressor'}\n",
      "Average RMSE: 0.427                                                               \n",
      "{'learning_rate': 0.019960841901981136, 'n_estimators': 171, 'type': 'GradientBoostingRegressor'}\n",
      "Average RMSE: 1.864                                                               \n",
      "{'learning_rate': 0.17797210635708993, 'n_estimators': 105, 'type': 'GradientBoostingRegressor'}\n",
      "Average RMSE: 0.428                                                               \n",
      "{'learning_rate': 0.12901065301272424, 'n_estimators': 96, 'type': 'GradientBoostingRegressor'}\n",
      "Average RMSE: 0.463                                                               \n",
      "{'learning_rate': 0.05489417813278845, 'n_estimators': 98, 'type': 'GradientBoostingRegressor'}\n",
      "Average RMSE: 0.645                                                               \n",
      "{'learning_rate': 0.1654558841720765, 'n_estimators': 130, 'type': 'GradientBoostingRegressor'}\n",
      "Average RMSE: 0.354                                                               \n",
      "{'learning_rate': 0.15339671966115517, 'n_estimators': 68, 'type': 'GradientBoostingRegressor'}\n",
      "Average RMSE: 0.597                                                               \n",
      "100%|██████████| 50/50 [52:43<00:00, 63.27s/trial, best loss: 0.22025681305910788]\n"
     ]
    }
   ],
   "source": [
    "def objective(params):\n",
    "    print(params)\n",
    "    del params['type']\n",
    "    rmse = evaluate_model(df.iloc[:, :-1], df.target, cols_to_select=['6', '7'], gbr_params=params)\n",
    "    return np.average(rmse)\n",
    "\n",
    "trials = Trials()\n",
    "best = fmin(objective, space, algo=tpe.suggest, max_evals=50, trials=trials)"
   ],
   "metadata": {
    "collapsed": false,
    "pycharm": {
     "name": "#%%\n"
    }
   }
  },
  {
   "cell_type": "markdown",
   "source": [
    "##### The best parameter set found after 50 iterations:"
   ],
   "metadata": {
    "collapsed": false,
    "pycharm": {
     "name": "#%% md\n"
    }
   }
  },
  {
   "cell_type": "code",
   "execution_count": 45,
   "outputs": [
    {
     "name": "stdout",
     "output_type": "stream",
     "text": [
      "learning rate: 0.199\n",
      "\n",
      "n_estimators: 193\n",
      "\n",
      "Average RMSE: 0.22\n"
     ]
    }
   ],
   "source": [
    "print(f\"\"\"learning rate: {round(best['learning_rate'], 3)}\\n\n",
    "n_estimators: {best['n_estimators']}\\n\n",
    "Average RMSE: {round(trials.best_trial['result']['loss'], 3)}\"\"\")"
   ],
   "metadata": {
    "collapsed": false,
    "pycharm": {
     "name": "#%%\n"
    }
   }
  },
  {
   "cell_type": "markdown",
   "source": [
    "##### Saving parameters to a json file:"
   ],
   "metadata": {
    "collapsed": false,
    "pycharm": {
     "name": "#%% md\n"
    }
   }
  },
  {
   "cell_type": "code",
   "execution_count": 64,
   "outputs": [],
   "source": [
    "gbr_params = {'learning_rate': float(best['learning_rate']),\n",
    "              'n_estimators': int(best['n_estimators']),\n",
    "              'random_state': random_state}\n",
    "with open('./gbr_params.json', 'w') as f:\n",
    "    json.dump(gbr_params, f, indent=4)"
   ],
   "metadata": {
    "collapsed": false,
    "pycharm": {
     "name": "#%%\n"
    }
   }
  }
 ],
 "metadata": {
  "kernelspec": {
   "display_name": "Python 3",
   "language": "python",
   "name": "python3"
  },
  "language_info": {
   "codemirror_mode": {
    "name": "ipython",
    "version": 2
   },
   "file_extension": ".py",
   "mimetype": "text/x-python",
   "name": "python",
   "nbconvert_exporter": "python",
   "pygments_lexer": "ipython2",
   "version": "2.7.6"
  }
 },
 "nbformat": 4,
 "nbformat_minor": 0
}